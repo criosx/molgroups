{
 "cells": [
  {
   "cell_type": "code",
   "execution_count": 1,
   "id": "accad99f",
   "metadata": {},
   "outputs": [
    {
     "name": "stdout",
     "output_type": "stream",
     "text": [
      "/Users/frank/Dropbox/My Mac (PN115993.campus.nist.gov)/Documents/programming/molgroups/PlottingAndAnalysis\r\n"
     ]
    }
   ],
   "source": [
    "import rs\n",
    "import os\n",
    "!pwd"
   ]
  },
  {
   "cell_type": "markdown",
   "id": "ac628656",
   "metadata": {},
   "source": [
    "## Define result directory and set up fit source\n",
    "The results directory is the save directory for the refl1d/bumps/garefl fit, which is typically one directory level up from the fit setup. If a garefl fit does not use MCMC, give the setup directory.\n",
    "The runfile is either the Python or C++ setup file. The refl1d Python runfile for a garefl fit is expected to be run.py."
   ]
  },
  {
   "cell_type": "code",
   "execution_count": 2,
   "id": "f2b91289",
   "metadata": {},
   "outputs": [],
   "source": [
    "# Bumps Test\n",
    "#setupdir = '.'\n",
    "#mcmcstor = 'T1'\n",
    "#runfile = 'run-ff'\n",
    "#fitsource = 'bumps'\n",
    "\n",
    "# Refl1D Test\n",
    "#fitsource = 'refl1d'\n",
    "\n",
    "# Garefl test\n",
    "setupdir = '/Users/frank/Desktop/garefltest'\n",
    "mcmcstor = setupdir + '/MCMC_64000_500'\n",
    "runfile = 'setup.cc'\n",
    "fitsource = 'garefl'\n",
    "\n",
    "os.chdir(setupdir)\n",
    "\n",
    "fit = rs.CMolStat(fitsource=fitsource, spath=setupdir, mcmcpath=mcmcstor, runfile=runfile)"
   ]
  },
  {
   "cell_type": "markdown",
   "id": "5e6e26c0",
   "metadata": {},
   "source": [
    "## Load MCMC information bumps / refl1d files"
   ]
  },
  {
   "cell_type": "code",
   "execution_count": 3,
   "id": "74d216f8",
   "metadata": {
    "scrolled": true
   },
   "outputs": [
    {
     "name": "stdout",
     "output_type": "stream",
     "text": [
      "Found sErr.dat\n",
      "\n",
      "Analysis of current MC simulation ...\n",
      "Number of iterations: 16\n",
      "          d_oxide  [|    -   | ]  [         5,        40]  [     6.447(0.005),      23.07(0.073),      37.24(0.063)] (-     16.62, +     14.17)\n",
      "             d_Cr  [ |  -   |  ]  [        10,        60]  [     15.12(0.073),      31.62(0.058),      48.79(0.005)] (-      16.5, +     17.17)\n",
      "           d_gold  [        +| ]  [       130,       150]  [     145.1(0.001),      145.6(0.001),      148.6(0.093)] (-    0.4572, +     3.074)\n",
      "         l_tether  [ + |       ]  [         6,        10]  [     6.252(0.002),       6.59(0.001),      7.018(0.006)] (-     0.338, +     0.428)\n",
      "         l_lipid1  [     +|    ]  [         8,        20]  [     13.83(0.016),      14.48(0.014),      15.25(0.005)] (-    0.6508, +    0.7704)\n",
      "         l_lipid2  [   +|      ]  [         7,        20]  [     10.93(0.001),      11.45(0.006),      11.95(0.001)] (-    0.5152, +    0.5045)\n",
      "  dl_lipid_rinse1  [    |+     ]  [        -3,         3]  [   -0.4144(0.001),     -0.298(0.002),    -0.1545(0.000)] (-    0.1165, +    0.1435)\n",
      "        nf_tether  [    |  - | ]  [       0.2,         1]  [    0.5055(0.005),     0.7975(0.007),     0.9516(0.004)] (-    0.2919, +    0.1541)\n",
      "      mult_tether  [ |   -  |  ]  [       0.1,         4]  [     0.409(0.010),      1.872(0.042),      3.175(0.002)] (-     1.463, +     1.303)\n",
      "       vf_bilayer  [        |-|]  [      0.95,         1]  [    0.9885(0.004),      0.993(0.000),     0.9976(0.016)] (-  0.004556, +  0.004603)\n",
      "vf_bilayer_rinse1  [  |   -|   ]  [      0.99,         1]  [    0.9923(0.013),     0.9957(0.003),     0.9973(0.005)] (-  0.003469, +  0.001528)\n",
      "  fraction_rinse2  [      |+   ]  [       0.8,       1.2]  [     1.035(0.002),      1.061(0.013),      1.088(0.011)] (-   0.02636, +   0.02693)\n",
      "           dp_on0  [  | -    | ]  [        -5,         5]  [    -3.422(0.006),     -1.097(0.006),       3.73(0.031)] (-     2.326, +     4.826)\n",
      "           dp_on1  [ |     - | ]  [        -5,         5]  [    -3.893(0.008),       1.52(0.011),      4.035(0.005)] (-     5.413, +     2.515)\n",
      "           dp_on2  [       | + ]  [        -5,         5]  [     1.954(0.004),       3.64(0.007),      4.483(0.003)] (-     1.686, +    0.8434)\n",
      "           dp_on3  [    |  -  |]  [        -5,         5]  [   -0.6818(0.003),      2.098(0.069),      4.522(0.001)] (-      2.78, +     2.424)\n",
      "           dp_on4  [|  -  |    ]  [        -5,         5]  [    -4.732(0.005),     -2.084(0.007),      1.002(0.012)] (-     2.648, +     3.086)\n",
      "           dp_on5  [  |- |     ]  [        -5,         5]  [     -3.49(0.003),     -2.276(0.034),   -0.07852(0.044)] (-     1.214, +     2.198)\n",
      "           dp_on6  [      | -| ]  [        -5,         5]  [    0.9979(0.013),      3.142(0.006),      4.237(0.000)] (-     2.144, +     1.095)\n",
      "           vf_on1  #+          ]  [    -0.001,       0.4]  [  0.001203(0.000),    0.00338(0.000),    0.01049(0.002)] (-  0.002178, +  0.007112)\n",
      "           vf_on2  [|+         ]  [    -0.001,       0.4]  [   0.01163(0.002),    0.03626(0.000),    0.05518(0.007)] (-   0.02462, +   0.01893)\n",
      "           vf_on3  [      | -| ]  [    -0.001,       0.4]  [    0.2529(0.004),     0.3128(0.004),     0.3645(0.005)] (-    0.0599, +    0.0517)\n",
      "           vf_on4  [      |+   ]  [    -0.001,       0.5]  [    0.3051(0.003),     0.3438(0.004),     0.3558(0.002)] (-   0.03869, +   0.01207)\n",
      "           vf_on5  [  |-|      ]  [    -0.001,       0.4]  [   0.09004(0.023),     0.1165(0.010),     0.1445(0.003)] (-   0.02651, +   0.02797)\n",
      "         rho_SiOx  [           #  [   2.7e-06,   3.8e-06]  [     3.368(4007.310),      3.405(4757.204),      3.486(10258.184)] (-   0.03727, +   0.08075)\n",
      "           rho_Cr  [           #  [   2.7e-06,  4.15e-06]  [     3.202(43117.338),      3.359(3558.550),      3.393(66.205)] (-    0.1567, +   0.03422)\n",
      "           rho_Au  [           #  [   4.2e-06,   4.6e-06]  [     4.453(1319.520),      4.467(186.576),      4.473(1303.307)] (-   0.01379, +  0.005673)\n",
      "       rho_solv_0  [           #  [   5.8e-06,   6.4e-06]  [     6.231(3172.826),      6.258(3443.150),      6.265(519.574)] (-   0.02669, +  0.007573)\n",
      "       rho_solv_1  #           ]  [  -5.6e-07,    -1e-07]  [   -0.4883(460.011),    -0.4622(5464.521),    -0.4146(14318.318)] (-   0.02603, +   0.04759)\n",
      "       rho_solv_2  [           #  [   5.8e-06,   6.4e-06]  [     5.941(2585.507),      5.964(764.362),      5.973(313.359)] (-   0.02265, +   0.00944)\n",
      "       rho_solv_3  #           ]  [  -5.6e-07,    -1e-07]  [   -0.5555(219.509),    -0.5458(4255.439),    -0.5276(2118.950)] (-  0.009775, +   0.01818)\n",
      "     global_rough  [    +|     ]  [         1,         8]  [     3.749(0.004),      3.967(0.005),      4.508(0.023)] (-    0.2182, +    0.5411)\n",
      "      rough_cr_au  [   |-|     ]  [         1,        15]  [     5.174(0.008),      6.718(0.006),      8.047(0.013)] (-     1.543, +     1.329)\n",
      "            sigma  [   |+      ]  [         2,         8]  [     3.888(0.000),      4.125(0.012),      4.392(0.003)] (-    0.2372, +     0.267)\n",
      "     thetaoffset0  [   |    - |]  [    -0.001,     0.001]  [-0.0004005(0.034),  0.0005209(0.045),  0.0009001(0.009)] (- 0.0009213, + 0.0003792)\n",
      "     background_0  [   |-|     ]  [        -9,        -5]  [     -7.93(0.009),     -7.474(0.013),     -6.843(0.007)] (-    0.4555, +    0.6311)\n",
      "     background_1  [        |+ ]  [        -9,        -5]  [      -5.6(0.002),     -5.577(0.000),     -5.563(0.000)] (-   0.02289, +   0.01471)\n",
      "     background_2  [      +|   ]  [        -9,        -5]  [    -6.701(0.001),      -6.47(0.000),     -6.364(0.004)] (-    0.2309, +    0.1062)\n",
      "     background_3  [         + ]  [        -9,        -5]  [    -5.572(0.001),     -5.547(0.001),      -5.52(0.000)] (-   0.02416, +   0.02784)\n",
      "Maximum deviation from average over last 5 iterations: 48785.7828\n",
      "Confidence level: 0.6827\n"
     ]
    }
   ],
   "source": [
    "# TODO: Come up with a scheme on how to handle stat files (keep or delete)\n",
    "\n",
    "#fit.fnLoadStatData(sparse=0)\n",
    "#fit.fnLoadParameters()\n",
    "sparse = 0.01\n",
    "fit.fnAnalyzeStatFile(fConfidence=-1, sparse=sparse)"
   ]
  },
  {
   "cell_type": "code",
   "execution_count": null,
   "id": "dd48e803",
   "metadata": {},
   "outputs": [
    {
     "name": "stdout",
     "output_type": "stream",
     "text": [
      "Failure to load StatDataPython.dat.\n",
      "Recreate statistical data from sErr.dat.\n",
      "Found sErr.dat\n",
      "\n"
     ]
    }
   ],
   "source": [
    "fit.fnPullMolgroup(['lipid1'], sparse=sparse)"
   ]
  },
  {
   "cell_type": "code",
   "execution_count": null,
   "id": "f57ff90b",
   "metadata": {},
   "outputs": [],
   "source": [
    "fit.diStatResults"
   ]
  },
  {
   "cell_type": "code",
   "execution_count": null,
   "id": "c0f0afe6",
   "metadata": {},
   "outputs": [],
   "source": []
  },
  {
   "cell_type": "code",
   "execution_count": null,
   "id": "696b2cea",
   "metadata": {},
   "outputs": [],
   "source": []
  }
 ],
 "metadata": {
  "kernelspec": {
   "display_name": "Python 3",
   "language": "python",
   "name": "python3"
  },
  "language_info": {
   "codemirror_mode": {
    "name": "ipython",
    "version": 3
   },
   "file_extension": ".py",
   "mimetype": "text/x-python",
   "name": "python",
   "nbconvert_exporter": "python",
   "pygments_lexer": "ipython3",
   "version": "3.7.10"
  }
 },
 "nbformat": 4,
 "nbformat_minor": 5
}
