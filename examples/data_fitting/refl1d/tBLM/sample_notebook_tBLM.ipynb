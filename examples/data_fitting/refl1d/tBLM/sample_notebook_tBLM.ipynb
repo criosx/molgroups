{
 "cells": [
  {
   "cell_type": "markdown",
   "source": [
    "# Imports"
   ],
   "metadata": {
    "collapsed": false
   }
  },
  {
   "cell_type": "code",
   "metadata": {
    "ExecuteTime": {
     "end_time": "2024-09-13T16:27:56.815146Z",
     "start_time": "2024-09-13T16:27:55.057851Z"
    }
   },
   "source": [
    "import os\n",
    "import pandas\n",
    "\n",
    "from bumps.cli import load_model, load_best\n",
    "from scattertools.support import molstat"
   ],
   "outputs": [],
   "execution_count": 1
  },
  {
   "cell_type": "markdown",
   "source": [
    "# Variables"
   ],
   "metadata": {
    "collapsed": false
   }
  },
  {
   "cell_type": "markdown",
   "source": [
    "Variables to set the storage folder for the fit, the base name of the runfile, and the global optimizer. Further the\n",
    "number of burn and production stepst for the MCMC are set. The run flag determines whether the refl1d MCMC is run, or\n",
    "just a data analysis on a previous fit is performed.\n",
    "\n",
    "Steps (and burn) are intentionally small in this example to reduce file sizes."
   ],
   "metadata": {
    "collapsed": false
   }
  },
  {
   "cell_type": "code",
   "source": [
    "setupdir = os.getcwd()\n",
    "store = \"fit\"\n",
    "runfile = \"run\"\n",
    "fitsource = \"refl1d\"\n",
    "\n",
    "if not os.path.isdir(store):\n",
    "    os.mkdir(store)\n",
    "\n",
    "run = True\n",
    "burn = 1000\n",
    "steps = 100\n"
   ],
   "metadata": {
    "collapsed": false,
    "ExecuteTime": {
     "end_time": "2024-09-13T16:27:56.822138Z",
     "start_time": "2024-09-13T16:27:56.817587Z"
    }
   },
   "outputs": [],
   "execution_count": 2
  },
  {
   "cell_type": "markdown",
   "source": [
    "# Example Fit"
   ],
   "metadata": {
    "collapsed": false
   }
  },
  {
   "cell_type": "markdown",
   "source": [
    "The content of the following cell is written out to the runfile of the fit 'tblm.py'."
   ],
   "metadata": {
    "collapsed": false
   }
  },
  {
   "cell_type": "code",
   "source": [
    "%%writefile run.py\n",
    "## === Import section ===\n",
    "import numpy as np\n",
    "from molgroups import mol\n",
    "from molgroups import components as cmp\n",
    "import lipids\n",
    "from refl1d.names import load4, Parameter, SLD, Slab, Stack, Experiment, FitProblem\n",
    "from refl1d.flayer import FunctionalProfile\n",
    "\n",
    "## === Film structure definition section ===\n",
    "\n",
    "### Bilayer profile definition function\n",
    "\n",
    "def bilayer(z, sigma, bulknsld, global_rough, rho_substrate,nf_tether, mult_tether, l_tether, l_lipid1, l_lipid2, vf_bilayer):\n",
    "    \"\"\" Generic tethered bilayer \"\"\"\n",
    "\n",
    "    # Scale all SLDs from Refl1D units (1e-6 Ang^-2) to molgroups units (Ang^-2)\n",
    "    bulknsld = bulknsld * 1e-6\n",
    "    rho_substrate = rho_substrate * 1e-6\n",
    "\n",
    "    blm.fnSet(sigma=sigma, bulknsld=bulknsld, global_rough=global_rough, rho_substrate=rho_substrate,\n",
    "              nf_tether=nf_tether, mult_tether=mult_tether, l_tether=l_tether, l_lipid1=l_lipid1, l_lipid2=l_lipid2,\n",
    "              vf_bilayer=vf_bilayer)\n",
    "\n",
    "    # Calculate scattering properties of volume occupied by bilayer\n",
    "    normarea, area, nsl = blm.fnWriteProfile(z)\n",
    "\n",
    "    # Fill in the remaining volume with buffer of appropriate nSLD\n",
    "    nsld = nsl / (normarea * np.gradient(z)) + (1.0 - area / normarea) * bulknsld\n",
    "\n",
    "    # export objects for post analysis, needs to be from this function\n",
    "    problem.moldat = blm.fnWriteGroup2Dict({}, 'bilayer', np.arange(dimension) * stepsize)\n",
    "    problem.results = blm.fnWriteResults2Dict({}, 'bilayer')\n",
    "\n",
    "    # Return nSLD profile in Refl1D units\n",
    "    return nsld * 1e6\n",
    "\n",
    "# Define bilayer parameters\n",
    "vf_bilayer = Parameter(name='volume fraction bilayer', value=0.9).range(0.0, 1.0)\n",
    "l_lipid1 = Parameter(name='inner acyl chain thickness', value=10.0).range(8, 30)\n",
    "l_lipid2 = Parameter(name='outer acyl chain thickness', value=10.0).range(8, 16)\n",
    "sigma = Parameter(name='bilayer roughness', value=5).range(2, 9)\n",
    "global_rough = Parameter(name ='substrate roughness', value=5).range(2, 9)\n",
    "d_oxide = Parameter(name='silicon oxide layer thickness', value=10).range(5, 30)\n",
    "d_Cr =  Parameter(name='chromium layer thickness', value=40).range(10, 150)\n",
    "d_gold =  Parameter(name='gold layer thickness', value=100).range(150, 250) #thickness of gold\n",
    "rough_cr_au =  Parameter(name='gold chromium roughness', value=10).range(2, 24.0) # roughness of Cr/Au interface\n",
    "nf_tether =  Parameter(name='number fraction tether', value=0.7).range(0.2, 1.0) # number fraction of tether molecules in inner leaflet\n",
    "mult_tether =  Parameter(name='bME to tether ratio', value=2).range(0.1, 4) #ratio of bME to tether molecules at surface\n",
    "l_tether =  Parameter(name='tether length', value=10).range(3, 18) #distance from substrate to inner headgroup/acyl chain interface\n",
    "\n",
    "### Define bilayer object\n",
    "blm = mol.tBLM(tether=lipids.HC18SAc, filler=cmp.bmeSAc, lipids=[lipids.POPC], lipid_nf=[1.0])        # required to subtract the bilayer length in layer_tiox definition; only really necessary if using \"global blm\" in bilayer function\n",
    "\n",
    "### Define molgroups space.\n",
    "dimension=300       # Number of steps\n",
    "\n",
    "# Length of steps. Also sets calculation resolution, and determines speed of calculation\n",
    "stepsize=0.5\n",
    "\n",
    "## === Stack ===\n",
    "##\n",
    "## First, we create a 'material' for each bulk layer, which has an real and imaginary\n",
    "## scattering length density, stored in a Refl1d object called 'SLD'\n",
    "d2o = SLD(name='d2o', rho=6.3000, irho=0.0000)\n",
    "h2o = SLD(name='h2o', rho=-0.56, irho=0.0000)\n",
    "siox = SLD(name='siox', rho=4.1000, irho=0.0000)\n",
    "silicon = SLD(name='silicon', rho=2.0690, irho=0.0000)\n",
    "cr = SLD(name='chromium', rho=2.7, irho=0.0)\n",
    "gold = SLD(name='gold', rho=4.4, irho=0.0) #iro is the absorption of neutrons, should be 0\n",
    "\n",
    "## Then bulk layers are created, each with its own 'material'.  If you want to force\n",
    "## two layers to always match SLD you can use the same material in multiple layers.\n",
    "## The roughnesses of each layer are set to zero to begin with:\n",
    "\n",
    "layer_d2o = Slab(material=d2o, thickness=0.0000, interface=5.0000)\n",
    "layer_h2o = Slab(material=h2o, thickness=0.0000, interface=5.0000)\n",
    "layer_siox = Slab(material=siox, thickness=d_oxide, interface=global_rough)\n",
    "layer_silicon = Slab(material=silicon, thickness=0.0000, interface=global_rough)\n",
    "layer_cr = Slab(material=cr, thickness=d_Cr, interface=rough_cr_au)\n",
    "layer_gold = Slab(material=gold, thickness=d_gold - (blm.substrate.z + 0.5 * blm.substrate.length), interface=0.0000)\n",
    "\n",
    "## Use the bilayer definition function to generate the bilayer SLD profile, passing in the relevant parameters.\n",
    "## Note that substrate and bulk SLDs are linked to their respective materials.\n",
    "mollayer = FunctionalProfile(dimension*stepsize, 0, profile=bilayer, sigma=sigma, bulknsld=d2o.rho,\n",
    "                             global_rough=global_rough, rho_substrate=gold.rho, nf_tether = nf_tether,\n",
    "                             mult_tether = mult_tether, l_tether = l_tether, l_lipid1=l_lipid1, l_lipid2=l_lipid2,\n",
    "                             vf_bilayer=vf_bilayer)\n",
    "\n",
    "mollayerh = FunctionalProfile(dimension*stepsize, 0, profile=bilayer, sigma=sigma, bulknsld=h2o.rho,\n",
    "                              global_rough=global_rough, rho_substrate=gold.rho, nf_tether = nf_tether,\n",
    "                              mult_tether = mult_tether, l_tether = l_tether, l_lipid1=l_lipid1, l_lipid2=l_lipid2,\n",
    "                              vf_bilayer=vf_bilayer)\n",
    "\n",
    "## Stack the layers into individual samples, using common layer objects for layers that are unchanged between samples\n",
    "## As a convention, always build the sample from the substrate up. If the neutron beam is incident from the substrate side,\n",
    "## set back_reflectivity = True in the probe definition later.\n",
    "\n",
    "sample = layer_silicon | layer_siox | layer_cr | layer_gold | mollayer | layer_d2o\n",
    "sampleh = layer_silicon | layer_siox | layer_cr | layer_gold | mollayerh | layer_h2o\n",
    "\n",
    "## Set sample parameter ranges and constraints between layer properties, if these are not set using parameters previously\n",
    "\n",
    "# nSLD parameters\n",
    "d2o.rho.range(5.3000, 6.5000)\n",
    "h2o.rho.range(-0.6, 0.6)\n",
    "siox.rho.range(3.1000, 5.1000)\n",
    "cr.rho.range(2.7000, 4.0000)\n",
    "gold.rho.range(4.2000, 4.8000)\n",
    "\n",
    "## === Data files ===\n",
    "probe = load4('os046_4column.refl', back_reflectivity=True)\n",
    "probeh = load4('os047_4column.refl', back_reflectivity=True)\n",
    "\n",
    "# Background parameter\n",
    "# probe.background.value = 0.0000\n",
    "probe.background.range(-1e-7, 1e-5)\n",
    "probeh.background.range(-1e-7, 1e-5)\n",
    "probe.intensity.range(0.9, 1.05)\n",
    "probeh.intensity = probe.intensity\n",
    "probe.theta_offset.range(-0.015, 0.015)\n",
    "probeh.theta_offset = probe.theta_offset\n",
    "probe.sample_broadening.range(-0.005, 0.02)\n",
    "probeh.sample_broadening = probe.sample_broadening\n",
    "\n",
    "# Define critical edge oversampling for samples that require it (typically D2O only)\n",
    "probe.critical_edge(substrate=silicon, surface=d2o)\n",
    "\n",
    "## === Problem definition ===\n",
    "## a model object consists of a sample and a probe,\n",
    "\n",
    "## step = True corresponds to a calculation of the reflectivity from an actual profile\n",
    "## with microslabbed interfaces.  When step = False, the Nevot-Croce\n",
    "## approximation is used to account for roughness.  This approximation speeds up\n",
    "## the calculation tremendously, and is reasonably accuarate as long as the\n",
    "## roughness is much less than the layer thickness\n",
    "step = False\n",
    "\n",
    "model = Experiment(sample=sample, probe=probe, dz=stepsize, step_interfaces = step)\n",
    "modelh = Experiment(sample=sampleh, probe=probeh, dz=stepsize, step_interfaces = step)\n",
    "problem = FitProblem([model, modelh])"
   ],
   "metadata": {
    "collapsed": false,
    "ExecuteTime": {
     "end_time": "2024-09-13T16:27:56.832591Z",
     "start_time": "2024-09-13T16:27:56.824294Z"
    }
   },
   "outputs": [
    {
     "name": "stdout",
     "output_type": "stream",
     "text": [
      "Overwriting run.py\n"
     ]
    }
   ],
   "execution_count": 3
  },
  {
   "cell_type": "markdown",
   "source": [
    "# Running the fit"
   ],
   "metadata": {
    "collapsed": false
   }
  },
  {
   "cell_type": "markdown",
   "source": [
    "The following runs the fit using rs.py. It can also be run manually from the command line using, for example:\n",
    "> refl1d_cli.py tblm.py --fit=dream --init=lhs --parallel --store=fit --burn=16000 --steps=500"
   ],
   "metadata": {
    "collapsed": false
   }
  },
  {
   "cell_type": "code",
   "source": [
    "if run:\n",
    "    if os.path.isfile(store + \"/sErr.dat\"):\n",
    "        os.remove(store + \"/sErr.dat\")\n",
    "    if os.path.isfile(store + \"/isErr.dat\"):\n",
    "        os.remove(store + \"/isErr.dat\")\n",
    "    if os.path.isfile(store + \"/StatDataPython.dat\"):\n",
    "        os.remove(store + \"/StatDataPython.dat\")\n",
    "\n",
    "fit_object = molstat.CMolStat(\n",
    "    fitsource=fitsource,\n",
    "    spath=setupdir,\n",
    "    mcmcpath=store,\n",
    "    runfile=runfile,\n",
    "    state=None,\n",
    "    problem=None\n",
    ")\n",
    "\n",
    "if run:\n",
    "    fit_object.Interactor.fnRunMCMC(burn, steps, batch=False)\n",
    "\n",
    "print('Restore fit from: ', os.path.join(os.getcwd(), store, runfile))\n",
    "fit_object.fnRestoreFit()"
   ],
   "metadata": {
    "collapsed": false,
    "ExecuteTime": {
     "end_time": "2024-09-13T16:27:58.418899Z",
     "start_time": "2024-09-13T16:27:56.835792Z"
    }
   },
   "outputs": [
    {
     "ename": "AttributeError",
     "evalue": "module 'inspect' has no attribute 'getargspec'",
     "output_type": "error",
     "traceback": [
      "\u001B[0;31m---------------------------------------------------------------------------\u001B[0m",
      "\u001B[0;31mAttributeError\u001B[0m                            Traceback (most recent call last)",
      "Cell \u001B[0;32mIn[4], line 9\u001B[0m\n\u001B[1;32m      6\u001B[0m     \u001B[38;5;28;01mif\u001B[39;00m os\u001B[38;5;241m.\u001B[39mpath\u001B[38;5;241m.\u001B[39misfile(store \u001B[38;5;241m+\u001B[39m \u001B[38;5;124m\"\u001B[39m\u001B[38;5;124m/StatDataPython.dat\u001B[39m\u001B[38;5;124m\"\u001B[39m):\n\u001B[1;32m      7\u001B[0m         os\u001B[38;5;241m.\u001B[39mremove(store \u001B[38;5;241m+\u001B[39m \u001B[38;5;124m\"\u001B[39m\u001B[38;5;124m/StatDataPython.dat\u001B[39m\u001B[38;5;124m\"\u001B[39m)\n\u001B[0;32m----> 9\u001B[0m fit_object \u001B[38;5;241m=\u001B[39m \u001B[43mmolstat\u001B[49m\u001B[38;5;241;43m.\u001B[39;49m\u001B[43mCMolStat\u001B[49m\u001B[43m(\u001B[49m\n\u001B[1;32m     10\u001B[0m \u001B[43m    \u001B[49m\u001B[43mfitsource\u001B[49m\u001B[38;5;241;43m=\u001B[39;49m\u001B[43mfitsource\u001B[49m\u001B[43m,\u001B[49m\n\u001B[1;32m     11\u001B[0m \u001B[43m    \u001B[49m\u001B[43mspath\u001B[49m\u001B[38;5;241;43m=\u001B[39;49m\u001B[43msetupdir\u001B[49m\u001B[43m,\u001B[49m\n\u001B[1;32m     12\u001B[0m \u001B[43m    \u001B[49m\u001B[43mmcmcpath\u001B[49m\u001B[38;5;241;43m=\u001B[39;49m\u001B[43mstore\u001B[49m\u001B[43m,\u001B[49m\n\u001B[1;32m     13\u001B[0m \u001B[43m    \u001B[49m\u001B[43mrunfile\u001B[49m\u001B[38;5;241;43m=\u001B[39;49m\u001B[43mrunfile\u001B[49m\u001B[43m,\u001B[49m\n\u001B[1;32m     14\u001B[0m \u001B[43m    \u001B[49m\u001B[43mstate\u001B[49m\u001B[38;5;241;43m=\u001B[39;49m\u001B[38;5;28;43;01mNone\u001B[39;49;00m\u001B[43m,\u001B[49m\n\u001B[1;32m     15\u001B[0m \u001B[43m    \u001B[49m\u001B[43mproblem\u001B[49m\u001B[38;5;241;43m=\u001B[39;49m\u001B[38;5;28;43;01mNone\u001B[39;49;00m\n\u001B[1;32m     16\u001B[0m \u001B[43m)\u001B[49m\n\u001B[1;32m     18\u001B[0m \u001B[38;5;28;01mif\u001B[39;00m run:\n\u001B[1;32m     19\u001B[0m     fit_object\u001B[38;5;241m.\u001B[39mInteractor\u001B[38;5;241m.\u001B[39mfnRunMCMC(burn, steps, batch\u001B[38;5;241m=\u001B[39m\u001B[38;5;28;01mFalse\u001B[39;00m)\n",
      "File \u001B[0;32m~/opt/anaconda3/envs/Python311/lib/python3.11/site-packages/scattertools/support/molstat.py:109\u001B[0m, in \u001B[0;36mCMolStat.__init__\u001B[0;34m(self, fitsource, spath, mcmcpath, runfile, state, problem, load_state, save_stat_data)\u001B[0m\n\u001B[1;32m    107\u001B[0m \u001B[38;5;28;01melif\u001B[39;00m \u001B[38;5;28mself\u001B[39m\u001B[38;5;241m.\u001B[39mfitsource \u001B[38;5;241m==\u001B[39m \u001B[38;5;124m'\u001B[39m\u001B[38;5;124mrefl1d\u001B[39m\u001B[38;5;124m'\u001B[39m:\n\u001B[1;32m    108\u001B[0m     \u001B[38;5;28;01mfrom\u001B[39;00m \u001B[38;5;21;01mscattertools\u001B[39;00m\u001B[38;5;21;01m.\u001B[39;00m\u001B[38;5;21;01msupport\u001B[39;00m \u001B[38;5;28;01mimport\u001B[39;00m api_refl1d\n\u001B[0;32m--> 109\u001B[0m     \u001B[38;5;28mself\u001B[39m\u001B[38;5;241m.\u001B[39mInteractor \u001B[38;5;241m=\u001B[39m \u001B[43mapi_refl1d\u001B[49m\u001B[38;5;241;43m.\u001B[39;49m\u001B[43mCRefl1DAPI\u001B[49m\u001B[43m(\u001B[49m\u001B[38;5;28;43mself\u001B[39;49m\u001B[38;5;241;43m.\u001B[39;49m\u001B[43mspath\u001B[49m\u001B[43m,\u001B[49m\u001B[43m \u001B[49m\u001B[38;5;28;43mself\u001B[39;49m\u001B[38;5;241;43m.\u001B[39;49m\u001B[43mmcmcpath\u001B[49m\u001B[43m,\u001B[49m\u001B[43m \u001B[49m\u001B[38;5;28;43mself\u001B[39;49m\u001B[38;5;241;43m.\u001B[39;49m\u001B[43mrunfile\u001B[49m\u001B[43m,\u001B[49m\u001B[43m \u001B[49m\u001B[43mload_state\u001B[49m\u001B[38;5;241;43m=\u001B[39;49m\u001B[43mload_state\u001B[49m\u001B[43m)\u001B[49m\n\u001B[1;32m    110\u001B[0m \u001B[38;5;28;01melif\u001B[39;00m \u001B[38;5;28mself\u001B[39m\u001B[38;5;241m.\u001B[39mfitsource \u001B[38;5;241m==\u001B[39m \u001B[38;5;124m'\u001B[39m\u001B[38;5;124mgarefl\u001B[39m\u001B[38;5;124m'\u001B[39m:\n\u001B[1;32m    111\u001B[0m     \u001B[38;5;28;01mfrom\u001B[39;00m \u001B[38;5;21;01mscattertools\u001B[39;00m\u001B[38;5;21;01m.\u001B[39;00m\u001B[38;5;21;01msupport\u001B[39;00m \u001B[38;5;28;01mimport\u001B[39;00m api_garefl\n",
      "File \u001B[0;32m~/opt/anaconda3/envs/Python311/lib/python3.11/site-packages/scattertools/support/api_refl1d.py:20\u001B[0m, in \u001B[0;36mCRefl1DAPI.__init__\u001B[0;34m(self, spath, mcmcpath, runfile, load_state)\u001B[0m\n\u001B[1;32m     19\u001B[0m \u001B[38;5;28;01mdef\u001B[39;00m \u001B[38;5;21m__init__\u001B[39m(\u001B[38;5;28mself\u001B[39m, spath\u001B[38;5;241m=\u001B[39m\u001B[38;5;124m'\u001B[39m\u001B[38;5;124m.\u001B[39m\u001B[38;5;124m'\u001B[39m, mcmcpath\u001B[38;5;241m=\u001B[39m\u001B[38;5;124m'\u001B[39m\u001B[38;5;124m.\u001B[39m\u001B[38;5;124m'\u001B[39m, runfile\u001B[38;5;241m=\u001B[39m\u001B[38;5;124m'\u001B[39m\u001B[38;5;124m'\u001B[39m, load_state\u001B[38;5;241m=\u001B[39m\u001B[38;5;28;01mTrue\u001B[39;00m):\n\u001B[0;32m---> 20\u001B[0m     \u001B[38;5;28;43msuper\u001B[39;49m\u001B[43m(\u001B[49m\u001B[43m)\u001B[49m\u001B[38;5;241;43m.\u001B[39;49m\u001B[38;5;21;43m__init__\u001B[39;49m\u001B[43m(\u001B[49m\u001B[43mspath\u001B[49m\u001B[43m,\u001B[49m\u001B[43m \u001B[49m\u001B[43mmcmcpath\u001B[49m\u001B[43m,\u001B[49m\u001B[43m \u001B[49m\u001B[43mrunfile\u001B[49m\u001B[43m,\u001B[49m\u001B[43m \u001B[49m\u001B[43mload_state\u001B[49m\u001B[38;5;241;43m=\u001B[39;49m\u001B[43mload_state\u001B[49m\u001B[43m)\u001B[49m\n",
      "File \u001B[0;32m~/opt/anaconda3/envs/Python311/lib/python3.11/site-packages/scattertools/support/api_bumps.py:27\u001B[0m, in \u001B[0;36mCBumpsAPI.__init__\u001B[0;34m(self, spath, mcmcpath, runfile, state, problem, load_state)\u001B[0m\n\u001B[1;32m     25\u001B[0m \u001B[38;5;28;01mif\u001B[39;00m load_state:\n\u001B[1;32m     26\u001B[0m     \u001B[38;5;28mself\u001B[39m\u001B[38;5;241m.\u001B[39mstate \u001B[38;5;241m=\u001B[39m \u001B[38;5;28mself\u001B[39m\u001B[38;5;241m.\u001B[39mfnRestoreState() \u001B[38;5;28;01mif\u001B[39;00m state \u001B[38;5;129;01mis\u001B[39;00m \u001B[38;5;28;01mNone\u001B[39;00m \u001B[38;5;28;01melse\u001B[39;00m state\n\u001B[0;32m---> 27\u001B[0m \u001B[38;5;28mself\u001B[39m\u001B[38;5;241m.\u001B[39mproblem \u001B[38;5;241m=\u001B[39m \u001B[38;5;28;43mself\u001B[39;49m\u001B[38;5;241;43m.\u001B[39;49m\u001B[43mfnRestoreFitProblem\u001B[49m\u001B[43m(\u001B[49m\u001B[43m)\u001B[49m \u001B[38;5;28;01mif\u001B[39;00m problem \u001B[38;5;129;01mis\u001B[39;00m \u001B[38;5;28;01mNone\u001B[39;00m \u001B[38;5;28;01melse\u001B[39;00m problem\n",
      "File \u001B[0;32m~/opt/anaconda3/envs/Python311/lib/python3.11/site-packages/scattertools/support/api_bumps.py:268\u001B[0m, in \u001B[0;36mCBumpsAPI.fnRestoreFitProblem\u001B[0;34m(self)\u001B[0m\n\u001B[1;32m    265\u001B[0m \u001B[38;5;28;01mfrom\u001B[39;00m \u001B[38;5;21;01mbumps\u001B[39;00m\u001B[38;5;21;01m.\u001B[39;00m\u001B[38;5;21;01mfitproblem\u001B[39;00m \u001B[38;5;28;01mimport\u001B[39;00m load_problem\n\u001B[1;32m    267\u001B[0m \u001B[38;5;28;01mif\u001B[39;00m path\u001B[38;5;241m.\u001B[39misfile(os\u001B[38;5;241m.\u001B[39mpath\u001B[38;5;241m.\u001B[39mjoin(\u001B[38;5;28mself\u001B[39m\u001B[38;5;241m.\u001B[39mspath, \u001B[38;5;28mself\u001B[39m\u001B[38;5;241m.\u001B[39mrunfile \u001B[38;5;241m+\u001B[39m \u001B[38;5;124m\"\u001B[39m\u001B[38;5;124m.py\u001B[39m\u001B[38;5;124m\"\u001B[39m)):\n\u001B[0;32m--> 268\u001B[0m     problem \u001B[38;5;241m=\u001B[39m \u001B[43mload_problem\u001B[49m\u001B[43m(\u001B[49m\u001B[43mos\u001B[49m\u001B[38;5;241;43m.\u001B[39;49m\u001B[43mpath\u001B[49m\u001B[38;5;241;43m.\u001B[39;49m\u001B[43mjoin\u001B[49m\u001B[43m(\u001B[49m\u001B[38;5;28;43mself\u001B[39;49m\u001B[38;5;241;43m.\u001B[39;49m\u001B[43mspath\u001B[49m\u001B[43m,\u001B[49m\u001B[43m \u001B[49m\u001B[38;5;28;43mself\u001B[39;49m\u001B[38;5;241;43m.\u001B[39;49m\u001B[43mrunfile\u001B[49m\u001B[43m \u001B[49m\u001B[38;5;241;43m+\u001B[39;49m\u001B[43m \u001B[49m\u001B[38;5;124;43m\"\u001B[39;49m\u001B[38;5;124;43m.py\u001B[39;49m\u001B[38;5;124;43m\"\u001B[39;49m\u001B[43m)\u001B[49m\u001B[43m)\u001B[49m\n\u001B[1;32m    269\u001B[0m \u001B[38;5;28;01melse\u001B[39;00m:\n\u001B[1;32m    270\u001B[0m     \u001B[38;5;28mprint\u001B[39m(\u001B[38;5;124m\"\u001B[39m\u001B[38;5;124mNo file: \u001B[39m\u001B[38;5;124m\"\u001B[39m \u001B[38;5;241m+\u001B[39m os\u001B[38;5;241m.\u001B[39mpath\u001B[38;5;241m.\u001B[39mjoin(\u001B[38;5;28mself\u001B[39m\u001B[38;5;241m.\u001B[39mspath, \u001B[38;5;28mself\u001B[39m\u001B[38;5;241m.\u001B[39mrunfile \u001B[38;5;241m+\u001B[39m \u001B[38;5;124m\"\u001B[39m\u001B[38;5;124m.py\u001B[39m\u001B[38;5;124m\"\u001B[39m))\n",
      "File \u001B[0;32m~/opt/anaconda3/envs/Python311/lib/python3.11/site-packages/bumps/fitproblem.py:803\u001B[0m, in \u001B[0;36mload_problem\u001B[0;34m(filename, options)\u001B[0m\n\u001B[1;32m    801\u001B[0m source \u001B[38;5;241m=\u001B[39m \u001B[38;5;28mopen\u001B[39m(filename)\u001B[38;5;241m.\u001B[39mread()\n\u001B[1;32m    802\u001B[0m code \u001B[38;5;241m=\u001B[39m \u001B[38;5;28mcompile\u001B[39m(source, filename, \u001B[38;5;124m'\u001B[39m\u001B[38;5;124mexec\u001B[39m\u001B[38;5;124m'\u001B[39m)\n\u001B[0;32m--> 803\u001B[0m \u001B[43mexec\u001B[49m\u001B[43m(\u001B[49m\u001B[43mcode\u001B[49m\u001B[43m,\u001B[49m\u001B[43m \u001B[49m\u001B[43mctx\u001B[49m\u001B[43m)\u001B[49m\n\u001B[1;32m    804\u001B[0m sys\u001B[38;5;241m.\u001B[39margv \u001B[38;5;241m=\u001B[39m old_argv\n\u001B[1;32m    805\u001B[0m problem \u001B[38;5;241m=\u001B[39m ctx\u001B[38;5;241m.\u001B[39mget(\u001B[38;5;124m\"\u001B[39m\u001B[38;5;124mproblem\u001B[39m\u001B[38;5;124m\"\u001B[39m, \u001B[38;5;28;01mNone\u001B[39;00m)\n",
      "File \u001B[0;32m~/Documents/programming/molgroups/examples/data_fitting/refl1d/tBLM/run.py:84\u001B[0m\n\u001B[1;32m     80\u001B[0m layer_gold \u001B[38;5;241m=\u001B[39m Slab(material\u001B[38;5;241m=\u001B[39mgold, thickness\u001B[38;5;241m=\u001B[39md_gold \u001B[38;5;241m-\u001B[39m (blm\u001B[38;5;241m.\u001B[39msubstrate\u001B[38;5;241m.\u001B[39mz \u001B[38;5;241m+\u001B[39m \u001B[38;5;241m0.5\u001B[39m \u001B[38;5;241m*\u001B[39m blm\u001B[38;5;241m.\u001B[39msubstrate\u001B[38;5;241m.\u001B[39mlength), interface\u001B[38;5;241m=\u001B[39m\u001B[38;5;241m0.0000\u001B[39m)\n\u001B[1;32m     82\u001B[0m \u001B[38;5;66;03m## Use the bilayer definition function to generate the bilayer SLD profile, passing in the relevant parameters.\u001B[39;00m\n\u001B[1;32m     83\u001B[0m \u001B[38;5;66;03m## Note that substrate and bulk SLDs are linked to their respective materials.\u001B[39;00m\n\u001B[0;32m---> 84\u001B[0m mollayer \u001B[38;5;241m=\u001B[39m \u001B[43mFunctionalProfile\u001B[49m\u001B[43m(\u001B[49m\u001B[43mdimension\u001B[49m\u001B[38;5;241;43m*\u001B[39;49m\u001B[43mstepsize\u001B[49m\u001B[43m,\u001B[49m\u001B[43m \u001B[49m\u001B[38;5;241;43m0\u001B[39;49m\u001B[43m,\u001B[49m\u001B[43m \u001B[49m\u001B[43mprofile\u001B[49m\u001B[38;5;241;43m=\u001B[39;49m\u001B[43mbilayer\u001B[49m\u001B[43m,\u001B[49m\u001B[43m \u001B[49m\u001B[43msigma\u001B[49m\u001B[38;5;241;43m=\u001B[39;49m\u001B[43msigma\u001B[49m\u001B[43m,\u001B[49m\u001B[43m \u001B[49m\u001B[43mbulknsld\u001B[49m\u001B[38;5;241;43m=\u001B[39;49m\u001B[43md2o\u001B[49m\u001B[38;5;241;43m.\u001B[39;49m\u001B[43mrho\u001B[49m\u001B[43m,\u001B[49m\n\u001B[1;32m     85\u001B[0m \u001B[43m                             \u001B[49m\u001B[43mglobal_rough\u001B[49m\u001B[38;5;241;43m=\u001B[39;49m\u001B[43mglobal_rough\u001B[49m\u001B[43m,\u001B[49m\u001B[43m \u001B[49m\u001B[43mrho_substrate\u001B[49m\u001B[38;5;241;43m=\u001B[39;49m\u001B[43mgold\u001B[49m\u001B[38;5;241;43m.\u001B[39;49m\u001B[43mrho\u001B[49m\u001B[43m,\u001B[49m\u001B[43m \u001B[49m\u001B[43mnf_tether\u001B[49m\u001B[43m \u001B[49m\u001B[38;5;241;43m=\u001B[39;49m\u001B[43m \u001B[49m\u001B[43mnf_tether\u001B[49m\u001B[43m,\u001B[49m\n\u001B[1;32m     86\u001B[0m \u001B[43m                             \u001B[49m\u001B[43mmult_tether\u001B[49m\u001B[43m \u001B[49m\u001B[38;5;241;43m=\u001B[39;49m\u001B[43m \u001B[49m\u001B[43mmult_tether\u001B[49m\u001B[43m,\u001B[49m\u001B[43m \u001B[49m\u001B[43ml_tether\u001B[49m\u001B[43m \u001B[49m\u001B[38;5;241;43m=\u001B[39;49m\u001B[43m \u001B[49m\u001B[43ml_tether\u001B[49m\u001B[43m,\u001B[49m\u001B[43m \u001B[49m\u001B[43ml_lipid1\u001B[49m\u001B[38;5;241;43m=\u001B[39;49m\u001B[43ml_lipid1\u001B[49m\u001B[43m,\u001B[49m\u001B[43m \u001B[49m\u001B[43ml_lipid2\u001B[49m\u001B[38;5;241;43m=\u001B[39;49m\u001B[43ml_lipid2\u001B[49m\u001B[43m,\u001B[49m\n\u001B[1;32m     87\u001B[0m \u001B[43m                             \u001B[49m\u001B[43mvf_bilayer\u001B[49m\u001B[38;5;241;43m=\u001B[39;49m\u001B[43mvf_bilayer\u001B[49m\u001B[43m)\u001B[49m\n\u001B[1;32m     89\u001B[0m mollayerh \u001B[38;5;241m=\u001B[39m FunctionalProfile(dimension\u001B[38;5;241m*\u001B[39mstepsize, \u001B[38;5;241m0\u001B[39m, profile\u001B[38;5;241m=\u001B[39mbilayer, sigma\u001B[38;5;241m=\u001B[39msigma, bulknsld\u001B[38;5;241m=\u001B[39mh2o\u001B[38;5;241m.\u001B[39mrho,\n\u001B[1;32m     90\u001B[0m                               global_rough\u001B[38;5;241m=\u001B[39mglobal_rough, rho_substrate\u001B[38;5;241m=\u001B[39mgold\u001B[38;5;241m.\u001B[39mrho, nf_tether \u001B[38;5;241m=\u001B[39m nf_tether,\n\u001B[1;32m     91\u001B[0m                               mult_tether \u001B[38;5;241m=\u001B[39m mult_tether, l_tether \u001B[38;5;241m=\u001B[39m l_tether, l_lipid1\u001B[38;5;241m=\u001B[39ml_lipid1, l_lipid2\u001B[38;5;241m=\u001B[39ml_lipid2,\n\u001B[1;32m     92\u001B[0m                               vf_bilayer\u001B[38;5;241m=\u001B[39mvf_bilayer)\n\u001B[1;32m     94\u001B[0m \u001B[38;5;66;03m## Stack the layers into individual samples, using common layer objects for layers that are unchanged between samples\u001B[39;00m\n\u001B[1;32m     95\u001B[0m \u001B[38;5;66;03m## As a convention, always build the sample from the substrate up. If the neutron beam is incident from the substrate side,\u001B[39;00m\n\u001B[1;32m     96\u001B[0m \u001B[38;5;66;03m## set back_reflectivity = True in the probe definition later.\u001B[39;00m\n",
      "File \u001B[0;32m~/opt/anaconda3/envs/Python311/lib/python3.11/site-packages/refl1d/flayer.py:81\u001B[0m, in \u001B[0;36mFunctionalProfile.__init__\u001B[0;34m(self, thickness, interface, profile, tol, magnetism, name, **kw)\u001B[0m\n\u001B[1;32m     78\u001B[0m \u001B[38;5;28mself\u001B[39m\u001B[38;5;241m.\u001B[39mstart \u001B[38;5;241m=\u001B[39m SLD(name\u001B[38;5;241m+\u001B[39m\u001B[38;5;124m\"\u001B[39m\u001B[38;5;124m start\u001B[39m\u001B[38;5;124m\"\u001B[39m, rho\u001B[38;5;241m=\u001B[39mrho_start, irho\u001B[38;5;241m=\u001B[39mirho_start)\n\u001B[1;32m     79\u001B[0m \u001B[38;5;28mself\u001B[39m\u001B[38;5;241m.\u001B[39mend \u001B[38;5;241m=\u001B[39m SLD(name\u001B[38;5;241m+\u001B[39m\u001B[38;5;124m\"\u001B[39m\u001B[38;5;124m end\u001B[39m\u001B[38;5;124m\"\u001B[39m, rho\u001B[38;5;241m=\u001B[39mrho_end, irho\u001B[38;5;241m=\u001B[39mirho_end)\n\u001B[0;32m---> 81\u001B[0m \u001B[43m_set_parameters\u001B[49m\u001B[43m(\u001B[49m\u001B[38;5;28;43mself\u001B[39;49m\u001B[43m,\u001B[49m\u001B[43m \u001B[49m\u001B[43mname\u001B[49m\u001B[43m,\u001B[49m\u001B[43m \u001B[49m\u001B[43mprofile\u001B[49m\u001B[43m,\u001B[49m\u001B[43m \u001B[49m\u001B[43mkw\u001B[49m\u001B[43m,\u001B[49m\u001B[43m \u001B[49m\u001B[38;5;28;43mself\u001B[39;49m\u001B[38;5;241;43m.\u001B[39;49m\u001B[43mRESERVED\u001B[49m\u001B[43m)\u001B[49m\n",
      "File \u001B[0;32m~/opt/anaconda3/envs/Python311/lib/python3.11/site-packages/refl1d/flayer.py:216\u001B[0m, in \u001B[0;36m_set_parameters\u001B[0;34m(self, name, profile, kw, reserved)\u001B[0m\n\u001B[1;32m    214\u001B[0m \u001B[38;5;28;01mdef\u001B[39;00m \u001B[38;5;21m_set_parameters\u001B[39m(\u001B[38;5;28mself\u001B[39m, name, profile, kw, reserved):\n\u001B[1;32m    215\u001B[0m     \u001B[38;5;66;03m# Query profile function for the list of arguments\u001B[39;00m\n\u001B[0;32m--> 216\u001B[0m     \u001B[38;5;28mvars\u001B[39m \u001B[38;5;241m=\u001B[39m \u001B[43minspect\u001B[49m\u001B[38;5;241;43m.\u001B[39;49m\u001B[43mgetargspec\u001B[49m(profile)[\u001B[38;5;241m0\u001B[39m]\n\u001B[1;32m    217\u001B[0m     \u001B[38;5;66;03m#print \"vars\", vars\u001B[39;00m\n\u001B[1;32m    218\u001B[0m     \u001B[38;5;28;01mif\u001B[39;00m inspect\u001B[38;5;241m.\u001B[39mismethod(profile):\n",
      "\u001B[0;31mAttributeError\u001B[0m: module 'inspect' has no attribute 'getargspec'"
     ]
    }
   ],
   "execution_count": 4
  },
  {
   "cell_type": "markdown",
   "source": [
    "# Analysis"
   ],
   "metadata": {
    "collapsed": false
   }
  },
  {
   "cell_type": "markdown",
   "source": [
    "Statistical analysis of fit results.\n",
    "\n",
    "Median values, 68% confidence limits (-1, 94%: -2, etc.), and fit intervals for all fit parameters."
   ],
   "metadata": {
    "collapsed": false
   }
  },
  {
   "cell_type": "code",
   "source": [
    "sparse = 0.05\n",
    "fit_object.fnAnalyzeStatFile(fConfidence=-1, sparse=sparse)"
   ],
   "metadata": {
    "collapsed": false,
    "ExecuteTime": {
     "end_time": "2024-09-13T16:27:58.420521Z",
     "start_time": "2024-09-13T16:27:58.420422Z"
    }
   },
   "outputs": [],
   "execution_count": null
  },
  {
   "cell_type": "markdown",
   "source": [
    "Create bilayer statistics from above parameter statistics. Results are saved to bilayerplotdata.dat."
   ],
   "metadata": {
    "collapsed": false
   }
  },
  {
   "cell_type": "code",
   "source": [
    "fit_object.fnProfilesStat()\n",
    "pandas.DataFrame(fit_object.diStatResults['Molgroups'].keys(), columns=['molecular groups'])"
   ],
   "metadata": {
    "collapsed": false
   },
   "outputs": [],
   "execution_count": null
  },
  {
   "cell_type": "markdown",
   "source": [
    "Plot selected data from bilayerplotdata.dat"
   ],
   "metadata": {
    "collapsed": false
   }
  },
  {
   "cell_type": "code",
   "source": [
    "import matplotlib.pyplot as plt\n",
    "\n",
    "median=['bilayer.substrate', 'bilayer.normarea', 'bilayer.headgroup1_1', 'bilayer.headgroup2_1', 'bilayer.methylene1_1', 'bilayer.methyl1_1', 'bilayer.methyl2_1', 'bilayer.methylene2_1', 'bilayer.tether_bme', 'bilayer.tether_free', 'bilayer.tether_hg', 'bilayer.tether_methylene', 'bilayer.tether_methyl']\n",
    "uncertainties=[]\n",
    "\n",
    "fig, ax = plt.subplots()\n",
    "for gp in median:\n",
    "    zaxis = fit_object.diStatResults['Molgroups'][gp]['zaxis']\n",
    "    area = fit_object.diStatResults['Molgroups'][gp]['median area']\n",
    "    ax.plot(zaxis, area, label=gp)\n",
    "    if gp in uncertainties:\n",
    "        msigma = fit_object.diStatResults['Molgroups'][gp]['msigma area']\n",
    "        psigma = fit_object.diStatResults['Molgroups'][gp]['psigma area']\n",
    "        ax.fill_between(zaxis, msigma, psigma, alpha=0.3)\n",
    "\n",
    "ax.legend(loc=\"upper right\")\n",
    "plt.xlabel(\"Distance (Å)\")\n",
    "plt.ylabel(\"Area (Å)\")\n",
    "ax.minorticks_on()\n",
    "ax.tick_params(which=\"both\", direction=\"in\", labelsize=10)\n",
    "ax.tick_params(bottom=True, top=True, left=True, right=True, which=\"both\")\n",
    "#plt.xlim(0, 100)\n",
    "#plt.xticks(numpy.arange(-35, 36, 5.0))\n",
    "plt.grid(True, which='Both')\n",
    "fig.patch.set_facecolor('white')\n",
    "ax.figure.set_size_inches(10, 6.66)\n",
    "plt.savefig(store + \"/cvo\", facecolor=\"white\")\n",
    "plt.show()"
   ],
   "metadata": {
    "collapsed": false
   },
   "outputs": [],
   "execution_count": null
  },
  {
   "cell_type": "markdown",
   "source": [
    "Compute statistical properties of interest with 68% confidence limits, such as the area per lipid of the outer lipid\n",
    "leaflet."
   ],
   "metadata": {
    "collapsed": false
   }
  },
  {
   "cell_type": "markdown",
   "source": [
    "A simple way to show output files from the fit. Publication-ready graphs can be created from the data in the storage\n",
    "directory or using fit_object:"
   ],
   "metadata": {
    "collapsed": false
   }
  },
  {
   "cell_type": "code",
   "source": [
    "from IPython.display import Image, display\n",
    "import glob\n",
    "for file in glob.glob(store+\"/*.png\"):\n",
    "    display(Image(filename=file))\n"
   ],
   "metadata": {
    "collapsed": false
   },
   "outputs": [],
   "execution_count": null
  },
  {
   "cell_type": "markdown",
   "source": [
    "# Publication-ready graphs\n",
    "\n",
    "..."
   ],
   "metadata": {
    "collapsed": false
   }
  },
  {
   "cell_type": "markdown",
   "source": [
    "# Useful Routines\n"
   ],
   "metadata": {
    "collapsed": false
   }
  },
  {
   "cell_type": "markdown",
   "source": [
    "Create a HC18 / POPC tethered lipid membrane object and manually change model parameters. Show the molecular\n",
    "distributions."
   ],
   "metadata": {
    "collapsed": false
   }
  },
  {
   "cell_type": "markdown",
   "source": [
    "Load the best-fit tBLM profile and show it."
   ],
   "metadata": {
    "collapsed": false
   }
  },
  {
   "cell_type": "code",
   "metadata": {},
   "source": [
    "model = load_model(runfile+'.py')\n",
    "load_best(model, store+'/'+runfile+'.par')\n",
    "model.chisq_str()"
   ],
   "outputs": [],
   "execution_count": null
  },
  {
   "cell_type": "code",
   "source": [],
   "metadata": {
    "collapsed": false
   },
   "outputs": [],
   "execution_count": null
  }
 ],
 "metadata": {
  "interpreter": {
   "hash": "e8e83515eecba71adf1b85691047a345bdca5a6733988c7550d3915842ce0938"
  },
  "kernelspec": {
   "display_name": "Python 3 (ipykernel)",
   "language": "python",
   "name": "python3"
  },
  "language_info": {
   "codemirror_mode": {
    "name": "ipython",
    "version": 3
   },
   "file_extension": ".py",
   "mimetype": "text/x-python",
   "name": "python",
   "nbconvert_exporter": "python",
   "pygments_lexer": "ipython3",
   "version": "3.7.12"
  }
 },
 "nbformat": 4,
 "nbformat_minor": 2
}
